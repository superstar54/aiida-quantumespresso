{
 "cells": [
  {
   "cell_type": "markdown",
   "metadata": {},
   "source": [
    "# Example\n",
    "\n",
    "## Relax"
   ]
  },
  {
   "cell_type": "code",
   "execution_count": 1,
   "metadata": {},
   "outputs": [
    {
     "name": "stderr",
     "output_type": "stream",
     "text": [
      "04/16/2024 01:20:15 PM <408348> aiida.orm.nodes.process.workflow.workchain.WorkChainNode: [REPORT] [9257|WorkGraph|check_while_conditions]: Check while conditions.\n",
      "04/16/2024 01:20:15 PM <408348> aiida.orm.nodes.process.workflow.workchain.WorkChainNode: [REPORT] [9257|WorkGraph|run_nodes]: Run node: should_run_relax, type: Normal\n"
     ]
    },
    {
     "name": "stdout",
     "output_type": "stream",
     "text": [
      "Is a while workgraph\n",
      "------------------------------------------------------------\n",
      "executor:  <function should_run_relax at 0x7f9ab16c5da0>\n",
      "node  type: Normal.\n"
     ]
    },
    {
     "name": "stderr",
     "output_type": "stream",
     "text": [
      "04/16/2024 01:20:15 PM <408348> aiida.orm.nodes.process.workflow.workchain.WorkChainNode: [REPORT] [9257|WorkGraph|run_nodes]: Node: should_run_relax finished.\n",
      "04/16/2024 01:20:15 PM <408348> aiida.orm.nodes.process.workflow.workchain.WorkChainNode: [REPORT] [9257|WorkGraph|continue_workgraph]: Continue workgraph.\n"
     ]
    },
    {
     "name": "stdout",
     "output_type": "stream",
     "text": [
      "conditions:  [True]\n",
      "Reset\n",
      "Continue workgraph.\n"
     ]
    },
    {
     "name": "stderr",
     "output_type": "stream",
     "text": [
      "04/16/2024 01:20:15 PM <408348> aiida.orm.nodes.process.workflow.workchain.WorkChainNode: [REPORT] [9257|WorkGraph|continue_workgraph]: nodes ready to run: prepare_relax_inputs\n",
      "04/16/2024 01:20:15 PM <408348> aiida.orm.nodes.process.workflow.workchain.WorkChainNode: [REPORT] [9257|WorkGraph|run_nodes]: Run node: prepare_relax_inputs, type: calcfunction\n"
     ]
    },
    {
     "name": "stdout",
     "output_type": "stream",
     "text": [
      "------------------------------------------------------------\n",
      "executor:  <function prepare_relax_inputs at 0x7f9ab16c5da0>\n",
      "node type: calcfunction/workfunction.\n"
     ]
    },
    {
     "name": "stderr",
     "output_type": "stream",
     "text": [
      "04/16/2024 01:20:16 PM <408348> aiida.orm.nodes.process.workflow.workchain.WorkChainNode: [REPORT] [9257|WorkGraph|run_nodes]: Node: prepare_relax_inputs finished.\n",
      "04/16/2024 01:20:16 PM <408348> aiida.orm.nodes.process.workflow.workchain.WorkChainNode: [REPORT] [9257|WorkGraph|continue_workgraph]: Continue workgraph.\n"
     ]
    },
    {
     "name": "stdout",
     "output_type": "stream",
     "text": [
      "Continue workgraph.\n"
     ]
    },
    {
     "name": "stderr",
     "output_type": "stream",
     "text": [
      "04/16/2024 01:20:16 PM <408348> aiida.orm.nodes.process.workflow.workchain.WorkChainNode: [REPORT] [9257|WorkGraph|continue_workgraph]: nodes ready to run: relax\n",
      "04/16/2024 01:20:16 PM <408348> aiida.orm.nodes.process.workflow.workchain.WorkChainNode: [REPORT] [9257|WorkGraph|run_nodes]: Run node: relax, type: workchain\n"
     ]
    },
    {
     "name": "stdout",
     "output_type": "stream",
     "text": [
      "------------------------------------------------------------\n",
      "executor:  <class 'aiida_quantumespresso.workflows.pw.base.PwBaseWorkChain'>\n",
      "node  type: calcjob/workchain.\n",
      "node:  inspect_relax CREATED\n",
      "node:  prepare_relax_inputs FINISHED\n",
      "node:  relax RUNNING\n",
      "node:  should_run_relax SKIPPED\n",
      "is workgraph finished:  False\n"
     ]
    },
    {
     "name": "stderr",
     "output_type": "stream",
     "text": [
      "04/16/2024 01:20:18 PM <408348> aiida.orm.nodes.process.workflow.workchain.WorkChainNode: [REPORT] [9265|PwBaseWorkChain|run_process]: launching PwCalculation<9274> iteration #1\n",
      "04/16/2024 01:20:19 PM <408348> aiida.orm.nodes.process.workflow.workchain.WorkChainNode: [REPORT] [9265|PwBaseWorkChain|results]: work chain completed after 1 iterations\n",
      "04/16/2024 01:20:19 PM <408348> aiida.orm.nodes.process.workflow.workchain.WorkChainNode: [REPORT] [9265|PwBaseWorkChain|on_terminated]: remote folders will not be cleaned\n",
      "04/16/2024 01:20:19 PM <408348> aiida.orm.nodes.process.workflow.workchain.WorkChainNode: [REPORT] [9257|WorkGraph|set_node_result]: Node: relax finished.\n"
     ]
    },
    {
     "name": "stdout",
     "output_type": "stream",
     "text": [
      "on awaitable finished:  relax\n",
      "update node state:  relax\n"
     ]
    },
    {
     "name": "stderr",
     "output_type": "stream",
     "text": [
      "04/16/2024 01:20:20 PM <408348> aiida.orm.nodes.process.workflow.workchain.WorkChainNode: [REPORT] [9257|WorkGraph|continue_workgraph]: Continue workgraph.\n"
     ]
    },
    {
     "name": "stdout",
     "output_type": "stream",
     "text": [
      "Continue workgraph.\n"
     ]
    },
    {
     "name": "stderr",
     "output_type": "stream",
     "text": [
      "04/16/2024 01:20:20 PM <408348> aiida.orm.nodes.process.workflow.workchain.WorkChainNode: [REPORT] [9257|WorkGraph|continue_workgraph]: nodes ready to run: inspect_relax\n",
      "04/16/2024 01:20:20 PM <408348> aiida.orm.nodes.process.workflow.workchain.WorkChainNode: [REPORT] [9257|WorkGraph|run_nodes]: Run node: inspect_relax, type: Normal\n",
      "04/16/2024 01:20:20 PM <408348> aiida.orm.nodes.process.workflow.workchain.WorkChainNode: [REPORT] [9257|WorkGraph|run_nodes]: Node: inspect_relax finished.\n",
      "04/16/2024 01:20:20 PM <408348> aiida.orm.nodes.process.workflow.workchain.WorkChainNode: [REPORT] [9257|WorkGraph|continue_workgraph]: Continue workgraph.\n"
     ]
    },
    {
     "name": "stdout",
     "output_type": "stream",
     "text": [
      "------------------------------------------------------------\n",
      "executor:  <function inspect_relax at 0x7f9aa9f234c0>\n",
      "node  type: Normal.\n",
      "Continue workgraph.\n"
     ]
    },
    {
     "name": "stderr",
     "output_type": "stream",
     "text": [
      "04/16/2024 01:20:21 PM <408348> aiida.orm.nodes.process.workflow.workchain.WorkChainNode: [REPORT] [9257|WorkGraph|continue_workgraph]: nodes ready to run: \n",
      "04/16/2024 01:20:21 PM <408348> aiida.orm.nodes.process.workflow.workchain.WorkChainNode: [REPORT] [9257|WorkGraph|check_while_conditions]: Check while conditions.\n",
      "04/16/2024 01:20:21 PM <408348> aiida.orm.nodes.process.workflow.workchain.WorkChainNode: [REPORT] [9257|WorkGraph|run_nodes]: Run node: should_run_relax, type: Normal\n",
      "04/16/2024 01:20:21 PM <408348> aiida.orm.nodes.process.workflow.workchain.WorkChainNode: [REPORT] [9257|WorkGraph|run_nodes]: Node: should_run_relax finished.\n"
     ]
    },
    {
     "name": "stdout",
     "output_type": "stream",
     "text": [
      "node:  inspect_relax FINISHED\n",
      "node:  prepare_relax_inputs FINISHED\n",
      "node:  relax FINISHED\n",
      "node:  should_run_relax SKIPPED\n",
      "Is a while workgraph\n",
      "------------------------------------------------------------\n",
      "executor:  <function should_run_relax at 0x7f9aaa2891c0>\n",
      "node  type: Normal.\n",
      "conditions:  [True]\n",
      "Reset\n",
      "is workgraph finished:  False\n"
     ]
    },
    {
     "name": "stderr",
     "output_type": "stream",
     "text": [
      "04/16/2024 01:20:22 PM <408348> aiida.orm.nodes.process.workflow.workchain.WorkChainNode: [REPORT] [9257|WorkGraph|continue_workgraph]: Continue workgraph.\n"
     ]
    },
    {
     "name": "stdout",
     "output_type": "stream",
     "text": [
      "Continue workgraph.\n"
     ]
    },
    {
     "name": "stderr",
     "output_type": "stream",
     "text": [
      "04/16/2024 01:20:22 PM <408348> aiida.orm.nodes.process.workflow.workchain.WorkChainNode: [REPORT] [9257|WorkGraph|continue_workgraph]: nodes ready to run: prepare_relax_inputs\n",
      "04/16/2024 01:20:22 PM <408348> aiida.orm.nodes.process.workflow.workchain.WorkChainNode: [REPORT] [9257|WorkGraph|run_nodes]: Run node: prepare_relax_inputs, type: calcfunction\n"
     ]
    },
    {
     "name": "stdout",
     "output_type": "stream",
     "text": [
      "------------------------------------------------------------\n",
      "executor:  <function prepare_relax_inputs at 0x7f9ab16c67a0>\n",
      "node type: calcfunction/workfunction.\n"
     ]
    },
    {
     "name": "stderr",
     "output_type": "stream",
     "text": [
      "04/16/2024 01:20:22 PM <408348> aiida.orm.nodes.process.workflow.workchain.WorkChainNode: [REPORT] [9257|WorkGraph|run_nodes]: Node: prepare_relax_inputs finished.\n",
      "04/16/2024 01:20:22 PM <408348> aiida.orm.nodes.process.workflow.workchain.WorkChainNode: [REPORT] [9257|WorkGraph|continue_workgraph]: Continue workgraph.\n"
     ]
    },
    {
     "name": "stdout",
     "output_type": "stream",
     "text": [
      "Continue workgraph.\n"
     ]
    },
    {
     "name": "stderr",
     "output_type": "stream",
     "text": [
      "04/16/2024 01:20:23 PM <408348> aiida.orm.nodes.process.workflow.workchain.WorkChainNode: [REPORT] [9257|WorkGraph|continue_workgraph]: nodes ready to run: relax\n",
      "04/16/2024 01:20:23 PM <408348> aiida.orm.nodes.process.workflow.workchain.WorkChainNode: [REPORT] [9257|WorkGraph|run_nodes]: Run node: relax, type: workchain\n"
     ]
    },
    {
     "name": "stdout",
     "output_type": "stream",
     "text": [
      "------------------------------------------------------------\n",
      "executor:  <class 'aiida_quantumespresso.workflows.pw.base.PwBaseWorkChain'>\n",
      "node  type: calcjob/workchain.\n",
      "node:  inspect_relax CREATED\n",
      "node:  prepare_relax_inputs FINISHED\n",
      "node:  relax RUNNING\n",
      "node:  should_run_relax SKIPPED\n",
      "is workgraph finished:  False\n"
     ]
    },
    {
     "name": "stderr",
     "output_type": "stream",
     "text": [
      "04/16/2024 01:20:25 PM <408348> aiida.orm.nodes.process.workflow.workchain.WorkChainNode: [REPORT] [9292|PwBaseWorkChain|run_process]: launching PwCalculation<9295> iteration #1\n",
      "04/16/2024 01:20:26 PM <408348> aiida.orm.nodes.process.workflow.workchain.WorkChainNode: [REPORT] [9292|PwBaseWorkChain|results]: work chain completed after 1 iterations\n",
      "04/16/2024 01:20:26 PM <408348> aiida.orm.nodes.process.workflow.workchain.WorkChainNode: [REPORT] [9292|PwBaseWorkChain|on_terminated]: remote folders will not be cleaned\n",
      "04/16/2024 01:20:26 PM <408348> aiida.orm.nodes.process.workflow.workchain.WorkChainNode: [REPORT] [9257|WorkGraph|set_node_result]: Node: relax finished.\n"
     ]
    },
    {
     "name": "stdout",
     "output_type": "stream",
     "text": [
      "on awaitable finished:  relax\n",
      "update node state:  relax\n"
     ]
    },
    {
     "name": "stderr",
     "output_type": "stream",
     "text": [
      "04/16/2024 01:20:27 PM <408348> aiida.orm.nodes.process.workflow.workchain.WorkChainNode: [REPORT] [9257|WorkGraph|continue_workgraph]: Continue workgraph.\n"
     ]
    },
    {
     "name": "stdout",
     "output_type": "stream",
     "text": [
      "Continue workgraph.\n"
     ]
    },
    {
     "name": "stderr",
     "output_type": "stream",
     "text": [
      "04/16/2024 01:20:27 PM <408348> aiida.orm.nodes.process.workflow.workchain.WorkChainNode: [REPORT] [9257|WorkGraph|continue_workgraph]: nodes ready to run: inspect_relax\n",
      "04/16/2024 01:20:27 PM <408348> aiida.orm.nodes.process.workflow.workchain.WorkChainNode: [REPORT] [9257|WorkGraph|run_nodes]: Run node: inspect_relax, type: Normal\n",
      "04/16/2024 01:20:27 PM <408348> aiida.orm.nodes.process.workflow.workchain.WorkChainNode: [REPORT] [9257|WorkGraph|run_nodes]: Node: inspect_relax finished.\n",
      "04/16/2024 01:20:27 PM <408348> aiida.orm.nodes.process.workflow.workchain.WorkChainNode: [REPORT] [9257|WorkGraph|continue_workgraph]: Continue workgraph.\n"
     ]
    },
    {
     "name": "stdout",
     "output_type": "stream",
     "text": [
      "------------------------------------------------------------\n",
      "executor:  <function inspect_relax at 0x7f9aaa28b2e0>\n",
      "node  type: Normal.\n",
      "Continue workgraph.\n"
     ]
    },
    {
     "name": "stderr",
     "output_type": "stream",
     "text": [
      "04/16/2024 01:20:28 PM <408348> aiida.orm.nodes.process.workflow.workchain.WorkChainNode: [REPORT] [9257|WorkGraph|continue_workgraph]: nodes ready to run: \n",
      "04/16/2024 01:20:28 PM <408348> aiida.orm.nodes.process.workflow.workchain.WorkChainNode: [REPORT] [9257|WorkGraph|check_while_conditions]: Check while conditions.\n",
      "04/16/2024 01:20:28 PM <408348> aiida.orm.nodes.process.workflow.workchain.WorkChainNode: [REPORT] [9257|WorkGraph|run_nodes]: Run node: should_run_relax, type: Normal\n",
      "04/16/2024 01:20:28 PM <408348> aiida.orm.nodes.process.workflow.workchain.WorkChainNode: [REPORT] [9257|WorkGraph|run_nodes]: Node: should_run_relax finished.\n",
      "04/16/2024 01:20:28 PM <408348> aiida.orm.nodes.process.workflow.workchain.WorkChainNode: [REPORT] [9257|WorkGraph|finalize]: Finalize\n"
     ]
    },
    {
     "name": "stdout",
     "output_type": "stream",
     "text": [
      "node:  inspect_relax FINISHED\n",
      "node:  prepare_relax_inputs FINISHED\n",
      "node:  relax FINISHED\n",
      "node:  should_run_relax SKIPPED\n",
      "Is a while workgraph\n",
      "------------------------------------------------------------\n",
      "executor:  <function should_run_relax at 0x7f9aaa629800>\n",
      "node  type: Normal.\n",
      "conditions:  [False]\n",
      "is workgraph finished:  True\n",
      "group outputs:  []\n",
      "Finalize workgraph WorkGraph\n",
      "\n"
     ]
    },
    {
     "data": {
      "text/plain": [
       "{'group_outputs': {},\n",
       " 'new_data': {},\n",
       " 'execution_count': <Int: uuid: 9ba6507c-5e68-492d-a3c1-6a299805dd02 (pk: 9306) value: 2>}"
      ]
     },
     "execution_count": 1,
     "metadata": {},
     "output_type": "execute_result"
    }
   ],
   "source": [
    "# -*- coding: utf-8 -*-\n",
    "\"\"\"Test.\"\"\"\n",
    "from copy import deepcopy\n",
    "\n",
    "from aiida import load_profile\n",
    "from aiida.orm import Dict, KpointsData, StructureData, load_code, load_group\n",
    "from ase.build import bulk\n",
    "\n",
    "from aiida_quantumespresso.workgraphs.relax_group import relax_workgraph\n",
    "\n",
    "load_profile()\n",
    "\n",
    "atoms = bulk('Si')\n",
    "structure_si = StructureData(ase=atoms)\n",
    "\n",
    "code = load_code('qe-7.2-pw@localhost')\n",
    "paras = Dict({\n",
    "    'CONTROL': {\n",
    "        'calculation': 'scf',\n",
    "    },\n",
    "    'SYSTEM': {\n",
    "        'ecutwfc': 30,\n",
    "        'ecutrho': 240,\n",
    "        'occupations': 'smearing',\n",
    "        'smearing': 'gaussian',\n",
    "        'degauss': 0.1,\n",
    "    },\n",
    "})\n",
    "relax_paras = deepcopy(paras)\n",
    "relax_paras.get_dict()['CONTROL']['calculation'] = 'vc-relax'\n",
    "\n",
    "kpoints = KpointsData()\n",
    "kpoints.set_kpoints_mesh([3, 3, 3])\n",
    "# Load the pseudopotential family.\n",
    "pseudo_family = load_group('SSSP/1.3/PBEsol/efficiency')\n",
    "pseudos = pseudo_family.get_pseudos(structure=structure_si)\n",
    "#\n",
    "metadata = {\n",
    "    'options': {\n",
    "        'resources': {\n",
    "            'num_machines': 1,\n",
    "            'num_mpiprocs_per_machine': 1,\n",
    "        },\n",
    "    }\n",
    "}\n",
    "\n",
    "relax_inputs = {\n",
    "    'pw': {\n",
    "        'code': code,\n",
    "        'pseudos': pseudos,\n",
    "        'parameters': relax_paras,\n",
    "        'metadata': metadata,\n",
    "    },\n",
    "    'kpoints': kpoints,\n",
    "}\n",
    "\n",
    "wg = relax_workgraph(\n",
    "    structure=structure_si,\n",
    "    inputs=relax_inputs,\n",
    "    max_iterations=5,\n",
    ")\n",
    "wg.run()"
   ]
  },
  {
   "cell_type": "code",
   "execution_count": 2,
   "metadata": {},
   "outputs": [
    {
     "data": {
      "application/vnd.jupyter.widget-view+json": {
       "model_id": "01f189fee9b44fc789b9435d0fbc07f7",
       "version_major": 2,
       "version_minor": 0
      },
      "text/plain": [
       "NodeGraphWidget(value={'name': 'WorkGraph', 'uuid': '4b063b30-fbe3-11ee-a23b-02425c27bd68', 'state': 'FINISHED'…"
      ]
     },
     "execution_count": 2,
     "metadata": {},
     "output_type": "execute_result"
    }
   ],
   "source": [
    "wt"
   ]
  },
  {
   "cell_type": "code",
   "execution_count": null,
   "metadata": {},
   "outputs": [],
   "source": []
  }
 ],
 "metadata": {
  "kernelspec": {
   "display_name": "aiida",
   "language": "python",
   "name": "python3"
  },
  "language_info": {
   "codemirror_mode": {
    "name": "ipython",
    "version": 3
   },
   "file_extension": ".py",
   "mimetype": "text/x-python",
   "name": "python",
   "nbconvert_exporter": "python",
   "pygments_lexer": "ipython3",
   "version": "3.11.0"
  }
 },
 "nbformat": 4,
 "nbformat_minor": 2
}
